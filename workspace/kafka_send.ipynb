{
 "cells": [
  {
   "cell_type": "code",
   "execution_count": 2,
   "id": "07d634c5",
   "metadata": {},
   "outputs": [
    {
     "name": "stdout",
     "output_type": "stream",
     "text": [
      "record_metadata: RecordMetadata(topic='Topic1', partition=0, topic_partition=TopicPartition(topic='Topic1', partition=0), offset=1, timestamp=1720312991671, log_start_offset=0, checksum=None, serialized_key_size=-1, serialized_value_size=28, serialized_header_size=-1)\n",
      "data: {'time': 1720312991.6700933}\n"
     ]
    }
   ],
   "source": [
    "from kafka import KafkaProducer\n",
    "from json import dumps\n",
    "import time\n",
    "\n",
    "\n",
    "def on_send_success(record_metadata):\n",
    "    # 보낸데이터의 매타데이터를 출력한다\n",
    "    print(\"record_metadata:\", record_metadata)\n",
    "    \n",
    "# 카프카 서버\n",
    "bootstrap_servers = [\"Kafka00Container:9092\"]\n",
    "\n",
    "# 카프카 공급자 생성\n",
    "producer = KafkaProducer(bootstrap_servers=bootstrap_servers,key_serializer=None,value_serializer=lambda x: dumps(x).encode('utf-8'))\n",
    "\n",
    "# 카프카 토픽\n",
    "str_topic_name = 'Topic1'\n",
    "\n",
    "# 카프카 공급자 토픽에 데이터를 보낸다\n",
    "data = {\"time\": time.time()}\n",
    "\n",
    "producer.send(str_topic_name, value=data).add_callback(on_send_success).get(timeout=100) # blocking maximum timeout\n",
    "\n",
    "print('data:', data)"
   ]
  },
  {
   "cell_type": "code",
   "execution_count": null,
   "id": "324b6b46",
   "metadata": {},
   "outputs": [],
   "source": []
  },
  {
   "cell_type": "code",
   "execution_count": null,
   "id": "48d22630",
   "metadata": {},
   "outputs": [],
   "source": []
  },
  {
   "cell_type": "code",
   "execution_count": null,
   "id": "889ee88b",
   "metadata": {},
   "outputs": [],
   "source": []
  }
 ],
 "metadata": {
  "kernelspec": {
   "display_name": "Python 3 (ipykernel)",
   "language": "python",
   "name": "python3"
  },
  "language_info": {
   "codemirror_mode": {
    "name": "ipython",
    "version": 3
   },
   "file_extension": ".py",
   "mimetype": "text/x-python",
   "name": "python",
   "nbconvert_exporter": "python",
   "pygments_lexer": "ipython3",
   "version": "3.7.3"
  }
 },
 "nbformat": 4,
 "nbformat_minor": 5
}
