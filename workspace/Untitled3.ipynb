{
 "cells": [
  {
   "cell_type": "code",
   "execution_count": 5,
   "id": "61a41db9",
   "metadata": {},
   "outputs": [
    {
     "name": "stdout",
     "output_type": "stream",
     "text": [
      "HOST : Kafka00Container - PORT : 9092 >>> CONNECTED\n"
     ]
    }
   ],
   "source": [
    "import socket\n",
    "import sys\n",
    "import csv\n",
    "\n",
    "ip = 'Kafka00Container'\n",
    "port = 9092\n",
    "sock = socket.socket(socket.AF_INET, socket.SOCK_STREAM)\n",
    "\n",
    "res = sock.connect_ex((ip, int(port)))\n",
    "\n",
    "if res == 0:\n",
    "    print(f\"HOST : {ip} - PORT : {port} >>> CONNECTED\")\n",
    "else:\n",
    "    print(f\"HOST : {ip} - PORT : {port} >>> NOT CONNECTED\")\n",
    "\n",
    "sock.close()\n",
    "\n"
   ]
  },
  {
   "cell_type": "code",
   "execution_count": null,
   "id": "33d39380",
   "metadata": {},
   "outputs": [],
   "source": []
  },
  {
   "cell_type": "code",
   "execution_count": null,
   "id": "99371b8e",
   "metadata": {},
   "outputs": [],
   "source": []
  }
 ],
 "metadata": {
  "kernelspec": {
   "display_name": "Python 3 (ipykernel)",
   "language": "python",
   "name": "python3"
  },
  "language_info": {
   "codemirror_mode": {
    "name": "ipython",
    "version": 3
   },
   "file_extension": ".py",
   "mimetype": "text/x-python",
   "name": "python",
   "nbconvert_exporter": "python",
   "pygments_lexer": "ipython3",
   "version": "3.7.3"
  }
 },
 "nbformat": 4,
 "nbformat_minor": 5
}
