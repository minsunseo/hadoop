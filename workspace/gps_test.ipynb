{
 "cells": [
  {
   "cell_type": "code",
   "execution_count": 10,
   "id": "ea69bc34",
   "metadata": {},
   "outputs": [
    {
     "ename": "NameError",
     "evalue": "name 'lines' is not defined",
     "output_type": "error",
     "traceback": [
      "\u001b[0;31m---------------------------------------------------------------------------\u001b[0m",
      "\u001b[0;31mNameError\u001b[0m                                 Traceback (most recent call last)",
      "\u001b[0;32m/tmp/ipykernel_38/4152370137.py\u001b[0m in \u001b[0;36m<module>\u001b[0;34m\u001b[0m\n\u001b[1;32m     24\u001b[0m \u001b[0;31m# 라인 추가\u001b[0m\u001b[0;34m\u001b[0m\u001b[0;34m\u001b[0m\u001b[0;34m\u001b[0m\u001b[0m\n\u001b[1;32m     25\u001b[0m \u001b[0;34m\u001b[0m\u001b[0m\n\u001b[0;32m---> 26\u001b[0;31m \u001b[0mfolium\u001b[0m\u001b[0;34m.\u001b[0m\u001b[0mPolyLine\u001b[0m\u001b[0;34m(\u001b[0m\u001b[0mlocations\u001b[0m \u001b[0;34m=\u001b[0m \u001b[0mlines\u001b[0m\u001b[0;34m)\u001b[0m\u001b[0;34m.\u001b[0m\u001b[0madd_to\u001b[0m\u001b[0;34m(\u001b[0m\u001b[0mm\u001b[0m\u001b[0;34m)\u001b[0m\u001b[0;34m\u001b[0m\u001b[0;34m\u001b[0m\u001b[0m\n\u001b[0m\u001b[1;32m     27\u001b[0m \u001b[0;34m\u001b[0m\u001b[0m\n\u001b[1;32m     28\u001b[0m \u001b[0;34m\u001b[0m\u001b[0m\n",
      "\u001b[0;31mNameError\u001b[0m: name 'lines' is not defined"
     ]
    }
   ],
   "source": [
    "import pandas as pd\n",
    "import folium\n",
    "from folium import Marker\n",
    "from folium.plugins import MarkerCluster\n",
    "import sqlalchemy as dbs\n",
    "import pymysql\n",
    "\n",
    "\n",
    "cluster = MarkerCluster()\n",
    "con = pymysql.connect(host='kingsms.asuscomm.com', port=3309, user='root', password='1!Tjalstjs', db='firebase', charset='utf8') # 한글처리 (charset = 'utf8')\n",
    " # STEP 3: Connection 으로부터 Cursor 생성\n",
    "cur = con.cursor()\n",
    "# STEP 4: SQL문 실행 및 Fetch\n",
    "sql = \"SELECT gps_time, gps_latitude, gps_longitude  FROM gps_history\"\n",
    "cur.execute(sql)\n",
    "\n",
    "rows = cur.fetchall()\n",
    "\n",
    "map = folium.Map(location=[37.306862,  126.9834126], tiles=\"OpenStreetMap\", zoom_start=11)\n",
    "\n",
    "center = [37.306862,  126.9834126]\n",
    "m = folium.Map(location=center, zoom_start=17)\n",
    "# 2) 라인 그리기\n",
    "# 라인 추가\n",
    "\n",
    "folium.PolyLine(locations = lines).add_to(m)\n",
    "\n",
    "\n",
    "\n",
    "\n",
    "for row in rows:\n",
    "    if row[0] is not None:\n",
    "        gps_latitude = row[1]\n",
    "        gps_longitude = row[2]\n",
    "        cluster.add_child(            \n",
    "#         Marker(location = [gps_latitude, gps_latitude], popup = \"<pre>\" + \"라벨\" + \"<br>\" + \"</pre>\",)).add_to(map)\n",
    "        Marker(location = [row[1], row[2]], popup = \"<pre>\" + row[0] + \"<br>\" + \"</pre>\",)).add_to(map)\n",
    "    else :\n",
    "        max_date = \"2022-12-01 01\"\n",
    "\n",
    "map"
   ]
  },
  {
   "cell_type": "code",
   "execution_count": 8,
   "id": "9b7f7214",
   "metadata": {},
   "outputs": [
    {
     "name": "stdout",
     "output_type": "stream",
     "text": [
      "Collecting pymysql\n",
      "  Downloading PyMySQL-1.1.1-py3-none-any.whl (44 kB)\n",
      "\u001b[K     |████████████████████████████████| 44 kB 1.1 MB/s eta 0:00:01\n",
      "\u001b[?25hInstalling collected packages: pymysql\n",
      "Successfully installed pymysql-1.1.1\n",
      "\u001b[33mWARNING: Running pip as the 'root' user can result in broken permissions and conflicting behaviour with the system package manager. It is recommended to use a virtual environment instead: https://pip.pypa.io/warnings/venv\u001b[0m\n",
      "\u001b[33mWARNING: You are using pip version 21.2.2; however, version 24.0 is available.\n",
      "You should consider upgrading via the '/usr/bin/python3 -m pip install --upgrade pip' command.\u001b[0m\n",
      "Note: you may need to restart the kernel to use updated packages.\n"
     ]
    }
   ],
   "source": [
    "pip install pymysql"
   ]
  },
  {
   "cell_type": "code",
   "execution_count": null,
   "id": "e2e7db19",
   "metadata": {},
   "outputs": [],
   "source": []
  }
 ],
 "metadata": {
  "kernelspec": {
   "display_name": "Python 3 (ipykernel)",
   "language": "python",
   "name": "python3"
  },
  "language_info": {
   "codemirror_mode": {
    "name": "ipython",
    "version": 3
   },
   "file_extension": ".py",
   "mimetype": "text/x-python",
   "name": "python",
   "nbconvert_exporter": "python",
   "pygments_lexer": "ipython3",
   "version": "3.7.3"
  }
 },
 "nbformat": 4,
 "nbformat_minor": 5
}
