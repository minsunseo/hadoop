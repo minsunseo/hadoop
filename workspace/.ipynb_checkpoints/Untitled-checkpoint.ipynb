{
 "cells": [
  {
   "cell_type": "code",
   "execution_count": 8,
   "id": "c2d387cf",
   "metadata": {},
   "outputs": [
    {
     "name": "stdout",
     "output_type": "stream",
     "text": [
      "dddd\n"
     ]
    }
   ],
   "source": [
    "import pandas as pd\n",
    "import folium\n",
    "from folium import Marker\n",
    "from folium.plugins import MarkerCluster\n",
    "\n",
    "df = pd.read_csv('subway.csv')\n",
    "df.head()\n",
    "\n",
    "map = folium.Map(location=[35.1795543, 129.0756416], tiles=\"OpenStreetMap\", zoom_start=11)\n",
    "map\n",
    "\n",
    "cluster = MarkerCluster()\n",
    "for _, i in df.iterrows():\n",
    "    cluster.add_child(\n",
    "        Marker(location = [i['역위도'], i['역경도']],\n",
    "               popup = \"<pre>\" + \"노선명: \" + str(i['노선명']) + \"<br>\" + \"역사명: \" + str(i['역사명']) + \"<br>\" + \"</pre>\",)\n",
    "    ).add_to(map)\n",
    "    \n",
    "    \n",
    "print(\"dddd\")    "
   ]
  },
  {
   "cell_type": "code",
   "execution_count": null,
   "id": "a753b748",
   "metadata": {},
   "outputs": [],
   "source": []
  }
 ],
 "metadata": {
  "kernelspec": {
   "display_name": "Python 3 (ipykernel)",
   "language": "python",
   "name": "python3"
  },
  "language_info": {
   "codemirror_mode": {
    "name": "ipython",
    "version": 3
   },
   "file_extension": ".py",
   "mimetype": "text/x-python",
   "name": "python",
   "nbconvert_exporter": "python",
   "pygments_lexer": "ipython3",
   "version": "3.7.3"
  }
 },
 "nbformat": 4,
 "nbformat_minor": 5
}
