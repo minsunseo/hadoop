{
 "cells": [
  {
   "cell_type": "code",
   "execution_count": null,
   "id": "4f47e26a",
   "metadata": {},
   "outputs": [],
   "source": [
    "from kafka import KafkaConsumer\n",
    "from json import loads\n",
    "\n",
    "# 카프카 서버\n",
    "bootstrap_servers = [\"Kafka00Container:9092\"]\n",
    "\n",
    "# 카프카 토픽\n",
    "str_topic_name    = 'Topic1'\n",
    "\n",
    "# 카프카 소비자 group1 생성\n",
    "str_group_name = 'group1'\n",
    "consumer = KafkaConsumer(str_topic_name, bootstrap_servers=bootstrap_servers,\n",
    "                         auto_offset_reset='earliest', # 가장 처음부터 소비\n",
    "                         enable_auto_commit=True,\n",
    "                         group_id=str_group_name,\n",
    "                         value_deserializer=lambda x: loads(x.decode('utf-8')),                       \n",
    "                         consumer_timeout_ms=60000 # 타임아웃지정(단위:밀리초)\n",
    "                        )\n",
    "\n",
    "for message in consumer:\n",
    "    print(message)"
   ]
  },
  {
   "cell_type": "code",
   "execution_count": null,
   "id": "e3de4cdc",
   "metadata": {},
   "outputs": [],
   "source": []
  },
  {
   "cell_type": "code",
   "execution_count": null,
   "id": "4871e919",
   "metadata": {},
   "outputs": [],
   "source": []
  }
 ],
 "metadata": {
  "kernelspec": {
   "display_name": "Python 3 (ipykernel)",
   "language": "python",
   "name": "python3"
  },
  "language_info": {
   "codemirror_mode": {
    "name": "ipython",
    "version": 3
   },
   "file_extension": ".py",
   "mimetype": "text/x-python",
   "name": "python",
   "nbconvert_exporter": "python",
   "pygments_lexer": "ipython3",
   "version": "3.7.3"
  }
 },
 "nbformat": 4,
 "nbformat_minor": 5
}
